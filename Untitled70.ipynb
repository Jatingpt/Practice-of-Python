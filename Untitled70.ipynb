{
  "nbformat": 4,
  "nbformat_minor": 0,
  "metadata": {
    "colab": {
      "provenance": [],
      "authorship_tag": "ABX9TyNdEZ1ru0f9TDiLEz5ZyVSi",
      "include_colab_link": true
    },
    "kernelspec": {
      "name": "python3",
      "display_name": "Python 3"
    },
    "language_info": {
      "name": "python"
    }
  },
  "cells": [
    {
      "cell_type": "markdown",
      "metadata": {
        "id": "view-in-github",
        "colab_type": "text"
      },
      "source": [
        "<a href=\"https://colab.research.google.com/github/Jatingpt/Practice-of-Python/blob/main/Untitled70.ipynb\" target=\"_parent\"><img src=\"https://colab.research.google.com/assets/colab-badge.svg\" alt=\"Open In Colab\"/></a>"
      ]
    },
    {
      "cell_type": "code",
      "execution_count": 1,
      "metadata": {
        "id": "5e35NSq0Hxlm"
      },
      "outputs": [],
      "source": [
        "#Introduction to python."
      ]
    },
    {
      "cell_type": "code",
      "source": [],
      "metadata": {
        "id": "lEEQlagpH8jP"
      },
      "execution_count": null,
      "outputs": []
    }
  ]
}